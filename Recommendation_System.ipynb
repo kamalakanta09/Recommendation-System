{
  "nbformat": 4,
  "nbformat_minor": 0,
  "metadata": {
    "colab": {
      "provenance": []
    },
    "kernelspec": {
      "name": "python3",
      "display_name": "Python 3"
    },
    "language_info": {
      "name": "python"
    }
  },
  "cells": [
    {
      "cell_type": "code",
      "execution_count": 2,
      "metadata": {
        "id": "BUlIcZxSOo46"
      },
      "outputs": [],
      "source": [
        "import pandas as pd\n",
        "import numpy as np\n",
        "from sklearn.model_selection import train_test_split\n",
        "from sklearn.preprocessing import MinMaxScaler\n",
        "from sklearn.metrics.pairwise import cosine_similarity\n",
        "from sklearn.metrics import precision_score, recall_score, f1_score"
      ]
    },
    {
      "cell_type": "code",
      "source": [
        "# Load the dataset\n",
        "file_path = '/content/anime.csv'\n",
        "anime_data = pd.read_csv(file_path)"
      ],
      "metadata": {
        "id": "0-9MxsNAOyuG"
      },
      "execution_count": 3,
      "outputs": []
    },
    {
      "cell_type": "code",
      "source": [
        "# Step 1: Explore the dataset structure\n",
        "dataset_info = anime_data.info()\n",
        "head_data = anime_data.head()\n"
      ],
      "metadata": {
        "colab": {
          "base_uri": "https://localhost:8080/"
        },
        "id": "MMS46Ha_O1os",
        "outputId": "45b71d23-7368-42a7-ec03-89df310f6417"
      },
      "execution_count": 4,
      "outputs": [
        {
          "output_type": "stream",
          "name": "stdout",
          "text": [
            "<class 'pandas.core.frame.DataFrame'>\n",
            "RangeIndex: 12294 entries, 0 to 12293\n",
            "Data columns (total 7 columns):\n",
            " #   Column    Non-Null Count  Dtype  \n",
            "---  ------    --------------  -----  \n",
            " 0   anime_id  12294 non-null  int64  \n",
            " 1   name      12294 non-null  object \n",
            " 2   genre     12232 non-null  object \n",
            " 3   type      12269 non-null  object \n",
            " 4   episodes  12294 non-null  object \n",
            " 5   rating    12064 non-null  float64\n",
            " 6   members   12294 non-null  int64  \n",
            "dtypes: float64(1), int64(2), object(4)\n",
            "memory usage: 672.5+ KB\n"
          ]
        }
      ]
    },
    {
      "cell_type": "code",
      "source": [
        "# Step 2: Check for missing values\n",
        "missing_values = anime_data.isnull().sum()\n",
        "\n",
        "# Display results to understand the dataset structure, attributes, and missing values\n",
        "print(\"Dataset Preview:\")\n",
        "print(anime_data.head())  # Display the head of the dataframe\n",
        "print(\"\\nMissing Values Summary:\")\n",
        "print(missing_values)  # Display the missing values summary\n"
      ],
      "metadata": {
        "colab": {
          "base_uri": "https://localhost:8080/"
        },
        "id": "35Ud7LASO4xg",
        "outputId": "d2d7f834-9406-45d4-a809-2592c88791a7"
      },
      "execution_count": 5,
      "outputs": [
        {
          "output_type": "stream",
          "name": "stdout",
          "text": [
            "Dataset Preview:\n",
            "   anime_id                              name  \\\n",
            "0     32281                    Kimi no Na wa.   \n",
            "1      5114  Fullmetal Alchemist: Brotherhood   \n",
            "2     28977                          Gintama°   \n",
            "3      9253                       Steins;Gate   \n",
            "4      9969                     Gintama&#039;   \n",
            "\n",
            "                                               genre   type episodes  rating  \\\n",
            "0               Drama, Romance, School, Supernatural  Movie        1    9.37   \n",
            "1  Action, Adventure, Drama, Fantasy, Magic, Mili...     TV       64    9.26   \n",
            "2  Action, Comedy, Historical, Parody, Samurai, S...     TV       51    9.25   \n",
            "3                                   Sci-Fi, Thriller     TV       24    9.17   \n",
            "4  Action, Comedy, Historical, Parody, Samurai, S...     TV       51    9.16   \n",
            "\n",
            "   members  \n",
            "0   200630  \n",
            "1   793665  \n",
            "2   114262  \n",
            "3   673572  \n",
            "4   151266  \n",
            "\n",
            "Missing Values Summary:\n",
            "anime_id      0\n",
            "name          0\n",
            "genre        62\n",
            "type         25\n",
            "episodes      0\n",
            "rating      230\n",
            "members       0\n",
            "dtype: int64\n"
          ]
        }
      ]
    },
    {
      "cell_type": "code",
      "source": [
        "# Step 3: Feature Extraction\n",
        "anime_data['genre'] = anime_data['genre'].fillna('Unknown')  # Handle missing genres\n",
        "genre_dummies = anime_data['genre'].str.get_dummies(sep=', ')\n",
        "\n",
        "scaler = MinMaxScaler()\n",
        "anime_data[['rating', 'members']] = scaler.fit_transform(anime_data[['rating', 'members']].fillna(0))\n",
        "processed_features = pd.concat([anime_data[['rating', 'members']], genre_dummies], axis=1)\n"
      ],
      "metadata": {
        "id": "eq58PtvMO90k"
      },
      "execution_count": 6,
      "outputs": []
    },
    {
      "cell_type": "code",
      "source": [
        "# Display the processed features to the user\n",
        "print(\"Processed Features:\")\n",
        "print(processed_features.head())\n"
      ],
      "metadata": {
        "colab": {
          "base_uri": "https://localhost:8080/"
        },
        "id": "Z1zCVQwkPEIM",
        "outputId": "a8701e17-5309-42df-bfc0-2ced3213a08f"
      },
      "execution_count": 7,
      "outputs": [
        {
          "output_type": "stream",
          "name": "stdout",
          "text": [
            "Processed Features:\n",
            "   rating   members  Action  Adventure  Cars  Comedy  Dementia  Demons  Drama  \\\n",
            "0   0.937  0.197872       0          0     0       0         0       0      1   \n",
            "1   0.926  0.782770       1          1     0       0         0       0      1   \n",
            "2   0.925  0.112689       1          0     0       1         0       0      0   \n",
            "3   0.917  0.664325       0          0     0       0         0       0      0   \n",
            "4   0.916  0.149186       1          0     0       1         0       0      0   \n",
            "\n",
            "   Ecchi  ...  Slice of Life  Space  Sports  Super Power  Supernatural  \\\n",
            "0      0  ...              0      0       0            0             1   \n",
            "1      0  ...              0      0       0            0             0   \n",
            "2      0  ...              0      0       0            0             0   \n",
            "3      0  ...              0      0       0            0             0   \n",
            "4      0  ...              0      0       0            0             0   \n",
            "\n",
            "   Thriller  Unknown  Vampire  Yaoi  Yuri  \n",
            "0         0        0        0     0     0  \n",
            "1         0        0        0     0     0  \n",
            "2         0        0        0     0     0  \n",
            "3         1        0        0     0     0  \n",
            "4         0        0        0     0     0  \n",
            "\n",
            "[5 rows x 46 columns]\n"
          ]
        }
      ]
    },
    {
      "cell_type": "code",
      "source": [
        "# Step 4: Recommendation Function\n",
        "def recommend_anime(target_anime, data, anime_titles, similarity_matrix, top_n=5):\n",
        "    if target_anime not in anime_titles.values:\n",
        "        return f\"Anime '{target_anime}' not found in the dataset.\"\n",
        "    target_index = anime_titles[anime_titles == target_anime].index[0]\n",
        "    similarity_scores = similarity_matrix[target_index]\n",
        "    similar_indices = np.argsort(similarity_scores)[::-1][1:top_n+1]  # Exclude itself\n",
        "    recommendations = [(anime_titles.iloc[idx], similarity_scores[idx]) for idx in similar_indices]\n",
        "    return recommendations\n",
        ""
      ],
      "metadata": {
        "id": "-ZixaPEAPHHD"
      },
      "execution_count": 8,
      "outputs": []
    },
    {
      "cell_type": "code",
      "source": [
        "# Precompute similarity matrix\n",
        "similarity_matrix = cosine_similarity(processed_features)\n"
      ],
      "metadata": {
        "id": "OgCxL9Y6PNBZ"
      },
      "execution_count": 9,
      "outputs": []
    },
    {
      "cell_type": "code",
      "source": [
        "# Test the function\n",
        "anime_titles = anime_data['name']  # Assuming 'name' column contains anime titles\n",
        "target_anime = anime_titles.iloc[0]  # Replace with any anime title\n",
        "recommendations = recommend_anime(target_anime, processed_features.values, anime_titles, similarity_matrix, top_n=5)\n"
      ],
      "metadata": {
        "id": "z1oRgOJOPRvk"
      },
      "execution_count": 10,
      "outputs": []
    },
    {
      "cell_type": "code",
      "source": [
        "# Display Recommendations\n",
        "print(f\"Recommendations for '{target_anime}':\")\n",
        "for anime, score in recommendations:\n",
        "    print(f\"{anime}: {score:.2f}\")\n"
      ],
      "metadata": {
        "colab": {
          "base_uri": "https://localhost:8080/"
        },
        "id": "I9orFV1hPXgQ",
        "outputId": "9b045369-f125-4d49-87f4-7f53b6c7902e"
      },
      "execution_count": 11,
      "outputs": [
        {
          "output_type": "stream",
          "name": "stdout",
          "text": [
            "Recommendations for 'Kimi no Na wa.':\n",
            "Wind: A Breath of Heart OVA: 0.99\n",
            "Wind: A Breath of Heart (TV): 0.99\n",
            "Aura: Maryuuin Kouga Saigo no Tatakai: 0.90\n",
            "Clannad: After Story - Mou Hitotsu no Sekai, Kyou-hen: 0.89\n",
            "Kokoro ga Sakebitagatterunda.: 0.89\n"
          ]
        }
      ]
    },
    {
      "cell_type": "code",
      "source": [
        "# Step 5: Evaluation of System\n",
        "def evaluate_recommendation_system(train_data, test_data, train_titles, test_titles, top_n=5):\n",
        "    similarity_matrix = cosine_similarity(train_data)\n",
        "\n",
        "    y_true = []\n",
        "    y_pred = []\n",
        "\n",
        "    for test_index in range(len(test_data)):\n",
        "        true_title = test_titles.iloc[test_index]\n",
        "        recommendations = recommend_anime(test_index, train_data, train_titles, similarity_matrix, top_n=top_n)\n",
        "        recommended_titles = [rec[0] for rec in recommendations]\n",
        "        y_true.append(1 if true_title in recommended_titles else 0)\n",
        "        y_pred.append(1)  # Always predict 1 for top_n recommendations\n",
        "\n",
        "    precision = precision_score(y_true, y_pred, average='micro')\n",
        "    recall = recall_score(y_true, y_pred, average='micro')\n",
        "    f1 = f1_score(y_true, y_pred, average='micro')\n",
        "\n",
        "    return precision, recall, f1\n"
      ],
      "metadata": {
        "id": "E7Z0l0fbPamw"
      },
      "execution_count": 12,
      "outputs": []
    },
    {
      "cell_type": "code",
      "source": [
        "# Split the dataset into training and testing sets\n",
        "train_data, test_data, train_titles, test_titles = train_test_split(\n",
        "    processed_features, anime_data['name'], test_size=0.2, random_state=42\n",
        ")\n"
      ],
      "metadata": {
        "id": "efh9xXnVPhiE"
      },
      "execution_count": 13,
      "outputs": []
    },
    {
      "cell_type": "code",
      "source": [
        "# Apply the evaluation function\n",
        "precision, recall, f1 = evaluate_recommendation_system(\n",
        "    train_data.values,\n",
        "    test_data.values,\n",
        "    train_titles,\n",
        "    test_titles,\n",
        "    top_n=5\n",
        ")"
      ],
      "metadata": {
        "id": "LmN4vi8JPm5I"
      },
      "execution_count": 17,
      "outputs": []
    },
    {
      "cell_type": "code",
      "source": [
        "# Display evaluation results\n",
        "evaluation_results = {\n",
        "    \"Precision\": precision,\n",
        "    \"Recall\": recall,\n",
        "    \"F1-Score\": f1\n",
        "}\n",
        "print(\"Evaluation Results:\", evaluation_results)\n"
      ],
      "metadata": {
        "colab": {
          "base_uri": "https://localhost:8080/"
        },
        "id": "PaNv-Dx1PtCx",
        "outputId": "7552ff88-0989-4bee-9e8d-951399d69de6"
      },
      "execution_count": 16,
      "outputs": [
        {
          "output_type": "stream",
          "name": "stdout",
          "text": [
            "Evaluation Results: {'Precision': 0.0, 'Recall': 0.0, 'F1-Score': 0.0}\n"
          ]
        }
      ]
    },
    {
      "cell_type": "code",
      "source": [],
      "metadata": {
        "id": "w2W0rOwOPzsS"
      },
      "execution_count": null,
      "outputs": []
    }
  ]
}